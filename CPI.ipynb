{
 "cells": [
  {
   "cell_type": "markdown",
   "id": "3a1e9389-37d6-4651-b157-23de50ca90fd",
   "metadata": {},
   "source": [
    "#### Steps\n",
    "\n",
    "- Import the CSV file into a pandas df\n",
    "- Clean the table name and remove all extra sysmbols, spaces, capital letter\n",
    "- Clean the colum headers and remove all extra symbols, spaces and capital letter\n",
    "- Write the create tbale SQL statement\n",
    "- Import the data into the db"
   ]
  },
  {
   "cell_type": "code",
   "execution_count": 12,
   "id": "b53e7bec-0bca-4de1-b317-46ba411c20fb",
   "metadata": {},
   "outputs": [],
   "source": [
    "# find excel files in my current working directory\n",
    "# isolate only the excel files\n",
    "# make a new directory\n",
    "# move the excel files in the new directory"
   ]
  },
  {
   "cell_type": "code",
   "execution_count": 54,
   "id": "17b9029f-f7cf-487b-b6d5-a697cced8e38",
   "metadata": {},
   "outputs": [
    {
     "name": "stdout",
     "output_type": "stream",
     "text": [
      "table corruption_perception_index_data_sets import to db completed\n"
     ]
    }
   ],
   "source": [
    "# importing libraries\n",
    "# !pip install psycopg2\n",
    "\n",
    "import os\n",
    "import numpy as np\n",
    "import pandas as pd\n",
    "import psycopg2\n",
    "\n",
    "#Import the CSV file into a pandas df\n",
    "df = pd.read_excel('Corruption Perception Index Data Set.xlsx', sheet_name=\"CPI Timeseries 2012 - 2020\")\n",
    "\n",
    "# Promote the second row to headers\n",
    "new_headers = df.iloc[1]\n",
    "df.columns = new_headers\n",
    "\n",
    "# Drop the first two rows\n",
    "df = df.iloc[2:].reset_index(drop=True)\n",
    "\n",
    "columns_to_drop = [col for col in df.columns if col.startswith('Standard') or col.startswith('Sources')]\n",
    "df = df.drop(columns=columns_to_drop)\n",
    "\n",
    "file = 'Corruption Perception Index Data Sets'\n",
    "clean_tbl_name = file.lower().replace(\" \", \"_\")\n",
    "\n",
    "#Clean the colum headers and remove all extra symbols, spaces and capital letter\n",
    "df.columns = [x.lower().replace(\" \", \"_\") for x in df.columns]\n",
    "\n",
    "df.fillna(0, inplace=True)\n",
    "\n",
    "df = df.apply(lambda x: x.astype(int) if x.name not in ['country', 'iso3', 'region'] else x)\n",
    "\n",
    "\n",
    "\n",
    "replacements = {\n",
    "    'object' : 'varchar',\n",
    "    'float64' : 'float',\n",
    "    'int32' : 'int',\n",
    "    'datetime64' : 'timestamp'\n",
    "}\n",
    "\n",
    "col_str = \", \".join(\"{} {}\".format(n, d) for (n, d) in zip(df.columns, df.dtypes.replace(replacements)))\n",
    "\n",
    "# df.head()\n",
    "# col_str\n",
    "\n",
    "# conn_string = 'host=\"localhost\", port=\"5432\", dbname=\"WDI\", user=\"postgres\", password=\"admin\"' \n",
    "conn = psycopg2.connect(host=\"localhost\", port=\"5432\", dbname=\"WDI\", user=\"postgres\", password=\"admin\")\n",
    "cursor = conn.cursor()\n",
    "# print('Opened databse successfully')\n",
    "\n",
    "# drop table with same name\n",
    "cursor.execute(\"drop table if exists corruption_perception_index_data_sets;\")\n",
    "# create table \n",
    "cursor.execute(\"create table corruption_perception_index_data_sets(%s)\" %(col_str))\n",
    "# print('success')\n",
    "\n",
    "\n",
    "# save df to csv\n",
    "df.to_csv('corruption_perception_index_data_sets.csv', header=df.columns, index=False, encoding='utf-8')\n",
    "\n",
    "#open the csv file\n",
    "\n",
    "my_file = open('corruption_perception_index_data_sets.csv')\n",
    "# print('file opened in memory')\n",
    "\n",
    "SQL_STATEMENT = \"\"\"\n",
    "COPY corruption_perception_index_data_sets FROM STDIN WITH\n",
    "    CSV\n",
    "    HEADER\n",
    "    DELIMITER AS ','\n",
    "\"\"\"\n",
    "\n",
    "cursor.copy_expert(sql=SQL_STATEMENT, file=my_file)\n",
    "# print('file copied to db')\n",
    "\n",
    "cursor.execute(\"grant select on corruption_perception_index_data_sets to public\")\n",
    "conn.commit()\n",
    "cursor.close()\n",
    "print('table corruption_perception_index_data_sets import to db completed')"
   ]
  },
  {
   "cell_type": "code",
   "execution_count": null,
   "id": "cafbbae0-d893-425c-8552-b65ed3413503",
   "metadata": {},
   "outputs": [],
   "source": []
  }
 ],
 "metadata": {
  "kernelspec": {
   "display_name": "Python 3 (ipykernel)",
   "language": "python",
   "name": "python3"
  },
  "language_info": {
   "codemirror_mode": {
    "name": "ipython",
    "version": 3
   },
   "file_extension": ".py",
   "mimetype": "text/x-python",
   "name": "python",
   "nbconvert_exporter": "python",
   "pygments_lexer": "ipython3",
   "version": "3.11.4"
  }
 },
 "nbformat": 4,
 "nbformat_minor": 5
}
