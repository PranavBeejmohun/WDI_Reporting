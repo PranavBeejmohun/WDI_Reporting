{
 "cells": [
  {
   "cell_type": "markdown",
   "id": "70fbd097-1ac3-4315-86b9-91613450f44c",
   "metadata": {},
   "source": [
    "#### Steps\n",
    "\n",
    "- Import the CSV file into a pandas df\n",
    "- Clean the table name and remove all extra sysmbols, spaces, capital letter\n",
    "- Clean the colum headers and remove all extra symbols, spaces and capital letter\n",
    "- Write the create tbale SQL statement\n",
    "- Import the data into the db"
   ]
  },
  {
   "cell_type": "code",
   "execution_count": 2,
   "id": "bd703ca6-c7ff-4759-a688-579c2089d9ff",
   "metadata": {},
   "outputs": [
    {
     "name": "stdout",
     "output_type": "stream",
     "text": [
      "Opened databse successfully\n",
      "file opened in memory\n",
      "file copied to db\n",
      "table WDIData import to db completed\n"
     ]
    }
   ],
   "source": [
    "# importing libraries\n",
    "# !pip install psycopg2\n",
    "\n",
    "import os\n",
    "import numpy as np\n",
    "import pandas as pd\n",
    "import psycopg2\n",
    "\n",
    "# Read the csv file\n",
    "df = pd.read_csv('WDIData.csv')\n",
    "\n",
    "# Remove the last column that contains all the unnamed columns\n",
    "# df = df.iloc[:, :-1]\n",
    "\n",
    "df.columns = ['yr' + col if col not in df.columns[:4] and not col.startswith('yr') else col for col in df.columns]\n",
    "df.columns = [x.lower().replace(\" \", \"_\") for x in df.columns]\n",
    "df = df.filter(regex='^(?!yrunnamed)')\n",
    "df.fillna(0, inplace=True)\n",
    "\n",
    "replacements = {\n",
    "    'object' : 'varchar',\n",
    "    'float64' : 'float',\n",
    "    'int32' : 'int',\n",
    "    'datetime64' : 'timestamp'\n",
    "}\n",
    "\n",
    "col_str = \", \".join(\"{} {}\".format(n, d) for (n, d) in zip(df.columns, df.dtypes.replace(replacements)))\n",
    "\n",
    "# conn_string = 'host=\"localhost\", port=\"5432\", dbname=\"WDI\", user=\"postgres\", password=\"admin\"' \n",
    "conn = psycopg2.connect(host=\"localhost\", port=\"5432\", dbname=\"WDI\", user=\"postgres\", password=\"admin\")\n",
    "cursor = conn.cursor()\n",
    "print('Opened databse successfully')\n",
    "\n",
    "# drop table with same name\n",
    "cursor.execute(\"drop table if exists WDIData;\")\n",
    "\n",
    "cursor.execute(\"create table WDIData(%s)\" % (col_str))\n",
    "\n",
    "# save df to csv\n",
    "df.to_csv('wdidata.csv', header=df.columns, index=False, encoding='utf-8')\n",
    "\n",
    "#open the csv file\n",
    "\n",
    "my_file = open('wdidata.csv')\n",
    "print('file opened in memory')\n",
    "\n",
    "SQL_STATEMENT = \"\"\"\n",
    "COPY wdidata FROM STDIN WITH\n",
    "    CSV\n",
    "    HEADER\n",
    "    DELIMITER AS ','\n",
    "\"\"\"\n",
    "\n",
    "cursor.copy_expert(sql=SQL_STATEMENT, file=my_file)\n",
    "print('file copied to db')\n",
    "\n",
    "cursor.execute(\"grant select on WDIData to public\")\n",
    "conn.commit()\n",
    "cursor.close()\n",
    "print('table WDIData import to db completed')"
   ]
  }
 ],
 "metadata": {
  "kernelspec": {
   "display_name": "Python 3 (ipykernel)",
   "language": "python",
   "name": "python3"
  },
  "language_info": {
   "codemirror_mode": {
    "name": "ipython",
    "version": 3
   },
   "file_extension": ".py",
   "mimetype": "text/x-python",
   "name": "python",
   "nbconvert_exporter": "python",
   "pygments_lexer": "ipython3",
   "version": "3.11.4"
  }
 },
 "nbformat": 4,
 "nbformat_minor": 5
}
